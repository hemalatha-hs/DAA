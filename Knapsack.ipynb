{
 "cells": [
  {
   "cell_type": "code",
   "execution_count": 3,
   "id": "f12667e8-0335-48ac-afc8-63be2c54f5bc",
   "metadata": {},
   "outputs": [
    {
     "name": "stdout",
     "output_type": "stream",
     "text": [
      "Enter number of elements:  4\n"
     ]
    },
    {
     "name": "stdout",
     "output_type": "stream",
     "text": [
      "\n",
      "Enter weight of 4 elements (separated by spaces): \n"
     ]
    },
    {
     "name": "stdout",
     "output_type": "stream",
     "text": [
      " 2 1 3 2\n"
     ]
    },
    {
     "name": "stdout",
     "output_type": "stream",
     "text": [
      "\n",
      "Enter values of 4 elements (separated by spaces): \n"
     ]
    },
    {
     "name": "stdout",
     "output_type": "stream",
     "text": [
      " 12 10 20 15\n",
      "Enter knapsack capacity:  10\n"
     ]
    },
    {
     "name": "stdout",
     "output_type": "stream",
     "text": [
      "The optimal solution is: 57\n",
      "\n",
      "Items selected:\n",
      "1 2 3 4 \n"
     ]
    }
   ],
   "source": [
    "def knapsack_solve(wt, val, W, N):\n",
    "    sol = [[0 for _ in range(W + 1)]  for _ in range(N+1)]\n",
    "    selected = [0] * (N+1)\n",
    "    \n",
    "    for i in range(1, N+1):\n",
    "        for j in range(1, W+1):\n",
    "            if wt[i] > j:\n",
    "                sol[i][j] = sol[i-1][j]\n",
    "            else:\n",
    "                sol[i][j] = max(sol[i-1][j], sol[i-1][j-wt[i]] + val[i]) \n",
    "                           \n",
    "    print(\"The optimal solution is:\", sol[N][W])\n",
    "    i, j = N, W\n",
    "\n",
    "    while i > 0 and j > 0:\n",
    "        if sol[i][j] != sol[i-1][j]:\n",
    "            selected[i] = 1\n",
    "            j -= wt[i]\n",
    "        i -= 1\n",
    "        \n",
    "    print(\"\\nItems selected:\")\n",
    "    for i in range(1, N+1):\n",
    "        if selected[i] == 1:\n",
    "            print(i, end=\" \")     \n",
    "    print()\n",
    "    \n",
    "def main():\n",
    "    n = int(input(\"Enter number of elements: \"))\n",
    "    wt = [0] * (n+1)\n",
    "    val = [0] * (n+1)\n",
    "    \n",
    "    print(\"\\nEnter weight of\", n, \"elements (separated by spaces): \")\n",
    "    wt_input = input().split()\n",
    "    for i in range(1, n+1):\n",
    "        wt[i] = int(wt_input[i-1])\n",
    "    \n",
    "    print(\"\\nEnter values of\", n, \"elements (separated by spaces): \")\n",
    "    val_input = input().split()\n",
    "    for i in range(1, n+1):\n",
    "        val[i] = int(val_input[i-1])\n",
    "        \n",
    "    W = int(input(\"Enter knapsack capacity: \"))\n",
    "    knapsack_solve(wt, val, W, n)\n",
    "    \n",
    "if __name__ == \"__main__\":\n",
    "    main()\n",
    "    "
   ]
  }
 ],
 "metadata": {
  "kernelspec": {
   "display_name": "Python 3 (ipykernel)",
   "language": "python",
   "name": "python3"
  },
  "language_info": {
   "codemirror_mode": {
    "name": "ipython",
    "version": 3
   },
   "file_extension": ".py",
   "mimetype": "text/x-python",
   "name": "python",
   "nbconvert_exporter": "python",
   "pygments_lexer": "ipython3",
   "version": "3.11.5"
  }
 },
 "nbformat": 4,
 "nbformat_minor": 5
}
