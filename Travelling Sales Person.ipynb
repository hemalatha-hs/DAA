{
 "cells": [
  {
   "cell_type": "code",
   "execution_count": 2,
   "id": "7c49f610-849a-412c-b1b2-c8174f7dc537",
   "metadata": {},
   "outputs": [
    {
     "name": "stdout",
     "output_type": "stream",
     "text": [
      "Enter number of cities:  4\n"
     ]
    },
    {
     "name": "stdout",
     "output_type": "stream",
     "text": [
      "Enter the cost matrix:\n"
     ]
    },
    {
     "name": "stdout",
     "output_type": "stream",
     "text": [
      " 0 10 15 20\n",
      " 5 0 9 10 \n",
      " 6 13 0 12 \n",
      " 8 8 9 0\n"
     ]
    },
    {
     "name": "stdout",
     "output_type": "stream",
     "text": [
      "The cost matrix is:\n",
      "0\t10\t15\t20\t\n",
      "5\t0\t9\t10\t\n",
      "6\t13\t0\t12\t\n",
      "8\t8\t9\t0\t\n",
      "Optimal solution:\n",
      "The path is:\n",
      "1 --> 2 --> 4 --> 3 --> 1\n",
      "Minimum cost is 35\n"
     ]
    }
   ],
   "source": [
    "class Sales:\n",
    "    def __init__(self):\n",
    "        self.cost_opt = 0\n",
    "        self.a = [[0 for _ in range(100)] for _ in range(100)]\n",
    "        self.visit = [0] * 100\n",
    "        \n",
    "    def mincost_opt(self, city, n):\n",
    "        self.visit[city] = 1\n",
    "        print(city, \"-->\", end=\" \")\n",
    "        ncity = self.least_opt(city, n)\n",
    "        if ncity == 999:\n",
    "            ncity = 1\n",
    "            print(ncity)\n",
    "            self.cost_opt += self.a[city][ncity]\n",
    "            return \n",
    "        self.mincost_opt(ncity, n)\n",
    "        \n",
    "    def least_opt(self, c, n):\n",
    "        nc = 999\n",
    "        min_val = 999\n",
    "        kmin = 999\n",
    "        for i in range(1, n+1):\n",
    "            if self.a[c][i] != 0 and self.visit[i] == 0:\n",
    "                if self.a[c][i] < min_val:\n",
    "                    min_val = self.a[i][1] + self.a[c][i]\n",
    "                    kmin = self.a[c][i]\n",
    "                    nc = i\n",
    "        if min_val != 999:\n",
    "            self.cost_opt += kmin\n",
    "        return nc\n",
    "    \n",
    "def main():\n",
    "    x = Sales()\n",
    "    n = int(input(\"Enter number of cities: \"))\n",
    "    print(\"Enter the cost matrix:\")\n",
    "    for i in range(1,n+1):\n",
    "        row = list(map(int, input().split()))\n",
    "        for j in range(1,n+1):\n",
    "            x.a[i][j] = row[j-1]\n",
    "        x.visit[i] =0\n",
    "        \n",
    "    print(\"The cost matrix is:\")\n",
    "    for i in range(1,n+1):\n",
    "        for j in range(1, n+1):\n",
    "            print(x.a[i][j], end=\"\\t\")\n",
    "        print()\n",
    "            \n",
    "    print(\"Optimal solution:\")\n",
    "    print(\"The path is:\")\n",
    "    x.mincost_opt(1, n)\n",
    "    print(\"Minimum cost is\", x.cost_opt)\n",
    "        \n",
    "if __name__ == \"__main__\":\n",
    "    main()"
   ]
  }
 ],
 "metadata": {
  "kernelspec": {
   "display_name": "Python 3 (ipykernel)",
   "language": "python",
   "name": "python3"
  },
  "language_info": {
   "codemirror_mode": {
    "name": "ipython",
    "version": 3
   },
   "file_extension": ".py",
   "mimetype": "text/x-python",
   "name": "python",
   "nbconvert_exporter": "python",
   "pygments_lexer": "ipython3",
   "version": "3.11.5"
  }
 },
 "nbformat": 4,
 "nbformat_minor": 5
}
