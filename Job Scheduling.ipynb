{
 "cells": [
  {
   "cell_type": "code",
   "execution_count": 1,
   "id": "cdee2cdf-41ae-4178-8e16-92afa17229e6",
   "metadata": {},
   "outputs": [
    {
     "name": "stdout",
     "output_type": "stream",
     "text": [
      "Enter number of jobs: 3\n",
      "Enter taskId for job 1: 1\n",
      "Enter deadline for job 1: 2\n",
      "Enter profit for job 1: 5\n",
      "Enter taskId for job 2: 2\n",
      "Enter deadline for job 2: 1\n",
      "Enter profit for job 2: 3\n",
      "Enter taskId for job 3: 3\n",
      "Enter deadline for job 3: 4\n",
      "Enter profit for job 3: 7\n",
      "Enter deadline limit: 4\n"
     ]
    },
    {
     "name": "stdout",
     "output_type": "stream",
     "text": [
      "Scheduled jobs are: [2, 1, 3]\n",
      "Total profit: 15\n"
     ]
    }
   ],
   "source": [
    "class Job:\n",
    "    def __init__(self,taskId,deadline,profit):\n",
    "        self.taskId=taskId\n",
    "        self.deadline=deadline\n",
    "        self.profit=profit\n",
    "\n",
    "def scheduledJobs(jobs,T):\n",
    "    profit=0\n",
    "    slot =[-1]*T\n",
    "    jobs.sort(key=lambda x:x.profit,reverse=True)\n",
    "\n",
    "    for job in jobs:\n",
    "        for j in reversed(range(job.deadline)):\n",
    "            if j<T and slot[j]==-1:\n",
    "                slot[j]=job.taskId\n",
    "                profit +=  job.profit\n",
    "                break\n",
    "            \n",
    "    print(\"Scheduled jobs are:\",list(filter(lambda x:x!=-1, slot)))\n",
    "    print(\"Total profit:\",profit)\n",
    "\n",
    "if __name__=='__main__':\n",
    "    jobs=[]\n",
    "    n=int(input(\"Enter number of jobs:\"))\n",
    "\n",
    "    for i in range(n):\n",
    "        taskId=int(input(f\"Enter taskId for job {i+1}:\"))\n",
    "        deadline=int(input(f\"Enter deadline for job {i+1}:\"))\n",
    "        profit=int(input(f\"Enter profit for job {i+1}:\"))\n",
    "        jobs.append(Job(taskId,deadline,profit))\n",
    "        \n",
    "    T=int(input(\"Enter deadline limit:\"))\n",
    "    scheduledJobs(jobs,T)"
   ]
  }
 ],
 "metadata": {
  "kernelspec": {
   "display_name": "Python 3 (ipykernel)",
   "language": "python",
   "name": "python3"
  },
  "language_info": {
   "codemirror_mode": {
    "name": "ipython",
    "version": 3
   },
   "file_extension": ".py",
   "mimetype": "text/x-python",
   "name": "python",
   "nbconvert_exporter": "python",
   "pygments_lexer": "ipython3",
   "version": "3.11.5"
  }
 },
 "nbformat": 4,
 "nbformat_minor": 5
}
