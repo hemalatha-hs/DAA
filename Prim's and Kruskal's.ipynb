{
 "cells": [
  {
   "cell_type": "code",
   "execution_count": 2,
   "id": "50c993b4-a53f-4873-a1a1-a5c1c3453b8f",
   "metadata": {},
   "outputs": [
    {
     "name": "stdout",
     "output_type": "stream",
     "text": [
      "Enter the number of nodes: 6\n",
      " 999 3 999 999 6 5\n",
      " 3 999 1 999 999 4 \n",
      " 999 1 999 6 999 4 \n",
      " 999 999 6 999 8 5 \n",
      " 6 999 999 8 999 2 \n",
      " 5 4 4 5 2 999\n"
     ]
    },
    {
     "name": "stdout",
     "output_type": "stream",
     "text": [
      "Minimum Spanning Tree using Prim's Algorithm:\n",
      "0 --> 1 : 3\n",
      "1 --> 2 : 1\n",
      "1 --> 5 : 4\n",
      "5 --> 4 : 2\n",
      "5 --> 3 : 5\n",
      "Minimum Spanning Tree using Kruskal's Algorithm:\n",
      "Edge 0 :( 3 , 2 ) cost: 1\n",
      "Edge 1 :( 6 , 5 ) cost: 2\n",
      "Edge 2 :( 2 , 1 ) cost: 3\n",
      "Edge 3 :( 6 , 3 ) cost: 4\n",
      "Edge 4 :( 6 , 4 ) cost: 5\n",
      "Minimum cost = 15\n"
     ]
    }
   ],
   "source": [
    "maxi = 9999999\n",
    "n = int(input(\"Enter the number of nodes:\"))\n",
    "selected = [False for i in range(n)]\n",
    "parent = [0 for i in range(n)]\n",
    "def find(i):\n",
    "    while parent[i] !=i:\n",
    "        i=parent[i]\n",
    "    return i\n",
    "def uni(i, j):\n",
    "    x=find(i)\n",
    "    y=find(j)\n",
    "    parent[x]=y\n",
    "\n",
    "def prim_mst(n, cost):\n",
    "    n_edge = 0\n",
    "    selected[0] = True\n",
    "    \n",
    "    while n_edge < n - 1:\n",
    "        minimum = maxi\n",
    "        x = y = 0\n",
    "        for i in range(n):\n",
    "            if selected[i]:\n",
    "                for j in range(n):\n",
    "                    if not selected[j] and cost[i][j]:\n",
    "                        if minimum > cost[i][j]:\n",
    "                            minimum = cost[i][j]\n",
    "                            x = i\n",
    "                            y = j\n",
    "        print(x, '-->', y, ':', cost[x][y])\n",
    "        selected[y] = True\n",
    "        n_edge+=1\n",
    "\n",
    "def kruskal_mst(n, cost):\n",
    "    mincost = 0\n",
    "    for i in range(n):\n",
    "        parent[i] = i\n",
    "    e_ctr = 0\n",
    "    while e_ctr < n-1:\n",
    "        mini = maxi\n",
    "        a=b=0\n",
    "        for i in range(n):\n",
    "            for j in range(n):\n",
    "                if cost[i][j] <= mini and find(i) != find(j):\n",
    "                    mini = cost[i][j]\n",
    "                    a = i\n",
    "                    b=j\n",
    "        uni(a, b)\n",
    "        print(\"Edge\", e_ctr, \":(\", a+1, \",\",b+1,\") cost:\", mini)\n",
    "        e_ctr +=1\n",
    "        mincost += mini\n",
    "\n",
    "    print(\"Minimum cost =\", mincost)\n",
    "\n",
    "cost = [[int(x) for x in input().split()] for j in range(n)]\n",
    "for i in range(n):\n",
    "    for j in range(n):\n",
    "        if cost[i][j] == 0:\n",
    "            cost[i][j] = maxi\n",
    "            \n",
    "print(\"Minimum Spanning Tree using Prim's Algorithm:\")\n",
    "prim_mst(n, cost)\n",
    "\n",
    "print(\"Minimum Spanning Tree using Kruskal's Algorithm:\")\n",
    "kruskal_mst(n, cost)"
   ]
  }
 ],
 "metadata": {
  "kernelspec": {
   "display_name": "Python 3 (ipykernel)",
   "language": "python",
   "name": "python3"
  },
  "language_info": {
   "codemirror_mode": {
    "name": "ipython",
    "version": 3
   },
   "file_extension": ".py",
   "mimetype": "text/x-python",
   "name": "python",
   "nbconvert_exporter": "python",
   "pygments_lexer": "ipython3",
   "version": "3.11.5"
  }
 },
 "nbformat": 4,
 "nbformat_minor": 5
}
