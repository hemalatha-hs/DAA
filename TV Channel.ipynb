{
 "cells": [
  {
   "cell_type": "code",
   "execution_count": 10,
   "id": "91d93db1-da69-4653-83a3-fce1f364b740",
   "metadata": {},
   "outputs": [
    {
     "name": "stdout",
     "output_type": "stream",
     "text": [
      "\n",
      "TV Channel app\n",
      "1.Create 10 channels\n",
      "2.rate channels\n",
      "3.Plot sorting algorithms\n",
      "4.Exit\n"
     ]
    },
    {
     "name": "stdin",
     "output_type": "stream",
     "text": [
      "Enter your choice: 1\n"
     ]
    },
    {
     "name": "stdout",
     "output_type": "stream",
     "text": [
      "Channels created succesfully\n",
      "\n",
      "TV Channel app\n",
      "1.Create 10 channels\n",
      "2.rate channels\n",
      "3.Plot sorting algorithms\n",
      "4.Exit\n"
     ]
    },
    {
     "name": "stdin",
     "output_type": "stream",
     "text": [
      "Enter your choice: 2\n"
     ]
    },
    {
     "name": "stdout",
     "output_type": "stream",
     "text": [
      "Channel 1:\n",
      "1939948 viewers,168 hours,Rank 1 - Excellent\n",
      "Channel 2:\n",
      "1228422 viewers,42 hours,Rank 2 - Great\n",
      "Channel 3:\n",
      "1821455 viewers,151 hours,Rank 1 - Excellent\n",
      "Channel 4:\n",
      "1964303 viewers,161 hours,Rank 1 - Excellent\n",
      "Channel 5:\n",
      "1767795 viewers,144 hours,Rank 1 - Excellent\n",
      "Channel 6:\n",
      "699945 viewers,79 hours,Rank 6 - Just shut down!\n",
      "Channel 7:\n",
      "1252087 viewers,87 hours,Rank 2 - Great\n",
      "Channel 8:\n",
      "595063 viewers,47 hours,Rank 6 - Just shut down!\n",
      "Channel 9:\n",
      "1010150 viewers,83 hours,Rank 2 - Great\n",
      "Channel 10:\n",
      "556944 viewers,111 hours,Rank 6 - Just shut down!\n",
      "\n",
      "TV Channel app\n",
      "1.Create 10 channels\n",
      "2.rate channels\n",
      "3.Plot sorting algorithms\n",
      "4.Exit\n"
     ]
    },
    {
     "name": "stdin",
     "output_type": "stream",
     "text": [
      "Enter your choice: 3\n"
     ]
    },
    {
     "data": {
      "image/png": "[encoded data removed]",
      "text/plain": [
       "<Figure size 640x480 with 1 Axes>"
      ]
     },
     "metadata": {},
     "output_type": "display_data"
    },
    {
     "name": "stdout",
     "output_type": "stream",
     "text": [
      "\n",
      "TV Channel app\n",
      "1.Create 10 channels\n",
      "2.rate channels\n",
      "3.Plot sorting algorithms\n",
      "4.Exit\n"
     ]
    },
    {
     "name": "stdin",
     "output_type": "stream",
     "text": [
      "Enter your choice: 4\n"
     ]
    },
    {
     "name": "stdout",
     "output_type": "stream",
     "text": [
      "Exiting the app...\n"
     ]
    }
   ],
   "source": [
    "import matplotlib.pyplot as plt\n",
    "import random\n",
    "import time\n",
    "class TVChannel:\n",
    "    def __init__(self,name,viewers,viewing_time):\n",
    "        self.name = name\n",
    "        self.viewers=viewers\n",
    "        self.viewing_time=viewing_time\n",
    "\n",
    "def create_channel(i):\n",
    "    name = f\"Channel {i}\"\n",
    "    viewers=random.randint(500, 2000000)\n",
    "    viewing_time=random.randint(30,180)\n",
    "    return TVChannel(name,viewers,viewing_time)\n",
    "\n",
    "def rate_channel(channel):\n",
    "    if channel.viewers >=1500000:\n",
    "        return \"Rank 1 - Excellent\"\n",
    "    elif channel.viewers >=1000000:\n",
    "        return \"Rank 2 - Great\"\n",
    "    elif channel.viewers >=1500000:\n",
    "        return \"Rank 3 - Good\"\n",
    "    elif channel.viewers >=1500000:\n",
    "        return \"Rank 4 - Average\"\n",
    "    elif channel.viewers >=1500000:\n",
    "        return \"Rank 5 - Poor\"\n",
    "    else:\n",
    "        return \"Rank 6 - Just shut down!\"\n",
    "\n",
    "def plot_sorting_algorithms():\n",
    "    sorting_algorithms = [\"Merge sort\",\"Quick sort\",\"Bubble sort\",\"Selection sort\", \"Insertion sort\"]\n",
    "    running_times = []\n",
    "    for algorithm in sorting_algorithms:\n",
    "        data = [[random.randint(1,1000)] for _ in range(1000)]\n",
    "        start_time=time.time()\n",
    "        if algorithm==\"Merge sort\":\n",
    "            merge_sort(data)\n",
    "        elif algorithm==\"Quick sort\":\n",
    "            quick_sort(data)\n",
    "        elif algorithm==\"Bubble sort\":\n",
    "            bubble_sort(data)\n",
    "        elif algorithm==\"Selection sort\":\n",
    "            selection_sort(data)\n",
    "        elif algorithm==\"Insertion sort\":\n",
    "            insertion_sort(data)\n",
    "        end_time=time.time()\n",
    "        running_time = end_time-start_time\n",
    "        running_times.append(running_time)\n",
    "    plt.bar(sorting_algorithms,running_times)\n",
    "    plt.xlabel(\"Sorting algorithms\")\n",
    "    plt.ylabel(\"Running times(sec)\")\n",
    "    plt.title(\"Running times(sec) of sorting algorithms\")\n",
    "    plt.show()\n",
    "\n",
    "def bubble_sort(arr):\n",
    "    n=len(arr)\n",
    "    for i in range(n-1):\n",
    "        for j in range(0,n-i-1):\n",
    "            if arr[j]>arr[j+1]:\n",
    "                arr[j],arr[j+1]=arr[j+1],arr[j]\n",
    "\n",
    "def selection_sort(arr):\n",
    "    n=len(arr)\n",
    "    for i in range(n):\n",
    "        min_idx=1\n",
    "        for j in range(i+1,n):\n",
    "            if arr[j]<arr[min_idx]: \n",
    "                min_idx = j\n",
    "        arr[i],arr[min_idx ]=arr[min_idx ],arr[i]\n",
    "\n",
    "def insertion_sort(arr):\n",
    "    for i in range(1, len(arr)):\n",
    "        key=arr[i]\n",
    "        j=i-1\n",
    "        while j>=0 and arr[j]>key:\n",
    "            arr[j+1]=arr[j]\n",
    "            j-=1\n",
    "        arr[j+1]=key\n",
    "\n",
    "def quick_sort(arr):\n",
    "    if len(arr)<=1:\n",
    "        return arr\n",
    "    else:\n",
    "        pivot = arr[0]\n",
    "        smaller = [x for x in arr[1:] if x<=pivot]\n",
    "        greater = [x for x in arr[1:] if x>pivot]\n",
    "        return quick_sort(smaller)+[pivot]+quick_sort(greater)\n",
    "    return quick_sort(lesser)+[pivot]+quick_sort(greater)\n",
    "\n",
    "def merge_sort(arr):\n",
    "    if len(arr)<=1:\n",
    "        return arr\n",
    "    else:\n",
    "        mid = len(arr)//2\n",
    "        left_half = arr[:mid]\n",
    "        right_half = arr[mid:]\n",
    "        left_half = merge_sort(left_half)\n",
    "        right_half = merge_sort(right_half)\n",
    "        return merge(left_half,right_half)\n",
    "\n",
    "def merge(left, right):\n",
    "    result=[]\n",
    "    i=j=0\n",
    "    while i<len(left) and j<len(right):\n",
    "        if left[i]<=right[j]:\n",
    "            result.append(left[i])\n",
    "            i+=1\n",
    "        else:\n",
    "            result.append(right[j])\n",
    "            j+=1\n",
    "    while i<len(left):\n",
    "        result.append(left[i])\n",
    "        i+=1\n",
    "    while j<len(right):\n",
    "        result.append(right[j])\n",
    "        j+=1\n",
    "    return result\n",
    "\n",
    "def app_menu():\n",
    "    channels = []\n",
    "    while True:\n",
    "        print(\"\\nTV Channel app\")\n",
    "        print(\"1.Create 10 channels\")\n",
    "        print(\"2.rate channels\")\n",
    "        print(\"3.Plot sorting algorithms\")\n",
    "        print(\"4.Exit\")\n",
    "        choice=int(input(\"Enter your choice:\"))\n",
    "        if choice==1:\n",
    "            for i in range(0,10):\n",
    "                channel=create_channel(i+1)\n",
    "                channels.append(channel)\n",
    "            print(\"Channels created succesfully\")\n",
    "        elif choice==2:\n",
    "            for channel in channels:\n",
    "                rating = rate_channel(channel)\n",
    "                print(f\"{channel.name}:\\n{channel.viewers} viewers,{channel.viewing_time} hours,{rating}\")\n",
    "        elif choice==3:\n",
    "            plot_sorting_algorithms()\n",
    "        elif choice==4:\n",
    "            print(\"Exiting the app...\")\n",
    "            break\n",
    "        else:\n",
    "            print(\"Invalid choice\")\n",
    "app_menu()"
   ]
  }
 ],
 "metadata": {
  "kernelspec": {
   "display_name": "Python 3 (ipykernel)",
   "language": "python",
   "name": "python3"
  },
  "language_info": {
   "codemirror_mode": {
    "name": "ipython",
    "version": 3
   },
   "file_extension": ".py",
   "mimetype": "text/x-python",
   "name": "python",
   "nbconvert_exporter": "python",
   "pygments_lexer": "ipython3",
   "version": "3.11.5"
  }
 },
 "nbformat": 4,
 "nbformat_minor": 5
}
