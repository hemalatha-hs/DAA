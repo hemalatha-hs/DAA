{
 "cells": [
  {
   "cell_type": "code",
   "execution_count": null,
   "id": "9e4dec64-b5d0-4387-9e43-900e51ea148a",
   "metadata": {},
   "outputs": [
    {
     "name": "stdout",
     "output_type": "stream",
     "text": [
      "Enter number of vertices: 5\n"
     ]
    },
    {
     "name": "stdout",
     "output_type": "stream",
     "text": [
      "Enter weighted matrix\n"
     ]
    },
    {
     "name": "stdout",
     "output_type": "stream",
     "text": [
      " 999 3 999 7 999    \n",
      " 3 999 4 2 999     \n",
      " 999 4 999 5 6 \n",
      " 7 2 5 999 4    \n"
     ]
    }
   ],
   "source": [
    "def dij(n,v,cost):\n",
    "    flag=[0 for x in range(1,n+2,1)]\n",
    "    dist = [float('inf') for x in range(1,n+2,1)]\n",
    "    dist[v]=0\n",
    "    path = [[] for x in range(1,n+2,1)]\n",
    "    path[v].append(v)\n",
    "    for _ in range(1,n+1,1):\n",
    "        u=-1\n",
    "        min_dist=float('inf')\n",
    "        for w in range(1,n+1,1):\n",
    "            if not flag[w] and dist[w]<min_dist:\n",
    "                u=w\n",
    "                min_dist=dist[w]\n",
    "        if u==-1:\n",
    "            break\n",
    "        flag[u]=1\n",
    "        for w in range(1,n+1,1):\n",
    "            if dist[u]+cost[u][w]<dist[w]:\n",
    "                dist[w] = dist[u]+cost[u][w]\n",
    "                path[w]=path[u]+[w]\n",
    "    return dist,path\n",
    "\n",
    "n=int(input(\"Enter number of vertices:\"))\n",
    "print(\"Enter weighted matrix\")\n",
    "cost = [[0 for j in range(1,n+2,1)] for i in range(1,n+2,1)]\n",
    "for i in range(1,n+1,1):\n",
    "    row=list(map(int,input().split()))\n",
    "    for j in range(1,n+1,1):\n",
    "        cost[i][j]=row[j-1]\n",
    "        if cost[i][j]==0:\n",
    "            cost[i][j] = loat('inf')\n",
    "v=int(input(\"Enter source vertex:\"))\n",
    "dist,path=dij(n,v,cost)\n",
    "print(\"the shortest path from source\",v,\"to the remaining vertices\")\n",
    "for i in range(1,n+1):\n",
    "    if i!=v:\n",
    "        print(v,\"->\",\"->\".join(map(str,path[i][1:])),\"=\",dist[i])\n",
    "        "
   ]
  }
 ],
 "metadata": {
  "kernelspec": {
   "display_name": "Python 3 (ipykernel)",
   "language": "python",
   "name": "python3"
  },
  "language_info": {
   "codemirror_mode": {
    "name": "ipython",
    "version": 3
   },
   "file_extension": ".py",
   "mimetype": "text/x-python",
   "name": "python",
   "nbconvert_exporter": "python",
   "pygments_lexer": "ipython3",
   "version": "3.11.5"
  }
 },
 "nbformat": 4,
 "nbformat_minor": 5
}
