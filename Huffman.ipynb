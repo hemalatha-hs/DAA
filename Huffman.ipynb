{
 "cells": [
  {
   "cell_type": "code",
   "execution_count": null,
   "id": "7de96b09-a174-4341-8d00-be80c001f809",
   "metadata": {},
   "outputs": [
    {
     "name": "stdout",
     "output_type": "stream",
     "text": [
      "Enter number of characters: 5\n",
      "Enter character: A\n",
      "Enter probability: 0.35\n",
      "Enter character: B\n",
      "Enter probability: 0.1\n",
      "Enter character: C\n",
      "Enter probability: 0.2\n",
      "Enter character: D\n",
      "Enter probability: 0.2\n",
      "Enter character: _\n",
      "Enter probability: 0.15\n",
      "Enter string to encode: DAD\n"
     ]
    },
    {
     "name": "stdout",
     "output_type": "stream",
     "text": [
      "Huffman codes:\n",
      "C : 00\n",
      "D : 01\n",
      "B : 100\n",
      "_ : 101\n",
      "A : 11\n",
      "Encoded string: 011101\n"
     ]
    },
    {
     "name": "stdout",
     "output_type": "stream",
     "text": [
      "Do you want to decode the encoded string? y\n"
     ]
    },
    {
     "name": "stdout",
     "output_type": "stream",
     "text": [
      "Decodedstring: DAD\n"
     ]
    },
    {
     "name": "stdout",
     "output_type": "stream",
     "text": [
      "Do you want to decode the binary number? y\n"
     ]
    }
   ],
   "source": [
    "import heapq\n",
    "class HuffmanNode:\n",
    "    def __init__(self,char,freq):\n",
    "        self.char=char\n",
    "        self.freq=freq\n",
    "        self.left=None\n",
    "        self.right=None\n",
    "    def __lt__(self,other):\n",
    "        return self.freq<other.freq\n",
    "\n",
    "def build_huffman_tree(characters, frequencies):\n",
    "    heap=[]\n",
    "    for i in range(len(characters)):\n",
    "        node = HuffmanNode(characters[i], frequencies[i])\n",
    "        heapq.heappush(heap,node)\n",
    "    while len(heap)>1:\n",
    "        left_node=heapq.heappop(heap)\n",
    "        right_node=heapq.heappop(heap)\n",
    "        combined_freq=left_node.freq+right_node.freq\n",
    "        combined_node=HuffmanNode(None,combined_freq)\n",
    "        combined_node.left=left_node\n",
    "        combined_node.right=right_node\n",
    "        heapq.heappush(heap,combined_node)\n",
    "    return heapq.heappop(heap)\n",
    "\n",
    "def build_huffman_codes(root,current_code,huffman_codes):\n",
    "    if root is None:\n",
    "        return\n",
    "    if root.char is not None:\n",
    "        huffman_codes[root.char]=current_code\n",
    "        return\n",
    "    build_huffman_codes(root.left,current_code+'0',huffman_codes)\n",
    "    build_huffman_codes(root.right,current_code+'1',huffman_codes)\n",
    "\n",
    "def encode_string(string,huffman_codes):\n",
    "    encoded_string=''\n",
    "    for char in string:\n",
    "        encoded_string+=huffman_codes[char]\n",
    "    return encoded_string\n",
    "\n",
    "def decode_string(encoded_string,root):\n",
    "    decoded_string=''\n",
    "    current_node=root\n",
    "    for bit in encoded_string:\n",
    "        if bit=='0':\n",
    "            current_node=current_node.left\n",
    "        else:\n",
    "            current_node=current_node.right\n",
    "        if current_node.char is not None:\n",
    "            decoded_string+=current_node.char\n",
    "            current_node=root\n",
    "    return decoded_string\n",
    "\n",
    "n=int(input(\"Enter number of characters:\"))\n",
    "characters=[]\n",
    "frequencies=[]\n",
    "\n",
    "for i in range(n):\n",
    "    char=input(\"Enter character:\")\n",
    "    frequency=float(input(\"Enter probability:\"))\n",
    "    characters.append(char)\n",
    "    frequencies.append(frequency)\n",
    "\n",
    "huffman_tree=build_huffman_tree(characters, frequencies)\n",
    "huffman_codes={}\n",
    "build_huffman_codes(huffman_tree,'',huffman_codes)\n",
    "\n",
    "string=input(\"Enter string to encode:\")\n",
    "encoded_string=encode_string(string,huffman_codes)\n",
    "\n",
    "print(\"Huffman codes:\")\n",
    "for char,code in huffman_codes.items():\n",
    "    print(char,\":\",code)\n",
    "print(\"Encoded string:\",encoded_string)\n",
    "\n",
    "decode_choice=input(\"Do you want to decode the encoded string?\")\n",
    "if decode_choice.lower()=='y':\n",
    "    decoded_string=decode_string(encoded_string,huffman_tree)\n",
    "    print(\"Decodedstring:\",decoded_string)\n",
    "    \n",
    "decode_new_choice=input(\"Do you want to decode the binary number?\")\n",
    "if decode_new_choice.lower()=='y':\n",
    "    binary_number=input(\"Enter binary number to decode:\")\n",
    "    decoded_new_string=decode_string(binary_number,huffman_tree)\n",
    "    print(\"Decodedstring:\",decoded_new_string)"
   ]
  }
 ],
 "metadata": {
  "kernelspec": {
   "display_name": "Python 3 (ipykernel)",
   "language": "python",
   "name": "python3"
  },
  "language_info": {
   "codemirror_mode": {
    "name": "ipython",
    "version": 3
   },
   "file_extension": ".py",
   "mimetype": "text/x-python",
   "name": "python",
   "nbconvert_exporter": "python",
   "pygments_lexer": "ipython3",
   "version": "3.11.5"
  }
 },
 "nbformat": 4,
 "nbformat_minor": 5
}
