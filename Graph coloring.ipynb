{
 "cells": [
  {
   "cell_type": "code",
   "execution_count": null,
   "id": "f7d99ff8-9b9d-44a7-9f49-93fe8b572abf",
   "metadata": {},
   "outputs": [
    {
     "name": "stdin",
     "output_type": "stream",
     "text": [
      "Enter number of subjects: 5\n",
      "Enter subject  1: MATHS\n",
      "Enter number of students for MATHS: 3\n",
      "Enter student for 1 for MATHS: ALICE\n",
      "Enter student for 2 for MATHS: BOB\n",
      "Enter student for 3 for MATHS: CHARLIE\n",
      "Enter subject  2: PHYSICS\n",
      "Enter number of students for PHYSICS: 3\n",
      "Enter student for 1 for PHYSICS: DAVID\n",
      "Enter student for 2 for PHYSICS: ALICE\n",
      "Enter student for 3 for PHYSICS: CHARLIE\n",
      "Enter subject  3: CHEMISTRY\n",
      "Enter number of students for CHEMISTRY: 3\n",
      "Enter student for 1 for CHEMISTRY: BOB\n",
      "Enter student for 2 for CHEMISTRY: CHARLIE\n",
      "Enter student for 3 for CHEMISTRY: EVE\n",
      "Enter subject  4: BIOLOGY\n",
      "Enter number of students for BIOLOGY: 3\n",
      "Enter student for 1 for BIOLOGY: ALICE\n",
      "Enter student for 2 for BIOLOGY: EVE\n",
      "Enter student for 3 for BIOLOGY: DAVID\n",
      "Enter subject  5: G\n",
      "Enter number of students for G: 1\n"
     ]
    }
   ],
   "source": [
    "from collections import defaultdict\n",
    "class Graph:\n",
    "    def __init__(self,subjects):\n",
    "        self.subjects=subjects\n",
    "        self.graph=defaultdict(list)\n",
    "    def add_edge(self,subject1,subject2):\n",
    "        self.graph[subject1].append(subject2)\n",
    "        self.graph[subject2].append(subject1)\n",
    "    def graph_coloring(self):\n",
    "        color_map={}\n",
    "        available_colors=set(range(1,len(self.subjects)+1))\n",
    "        for subject in self.subjects:\n",
    "            used_colors=set()\n",
    "            for neighbor in self.graph[subject]:\n",
    "                if neighbor in color_map:\n",
    "                    used_colors.add(color_map[neighbor])\n",
    "            available_color=available_colors-used_colors\n",
    "            if available_color:\n",
    "                color_map[subject] = min(available_color)\n",
    "            else:\n",
    "                color_map[subject] = min(available_colors)+1\n",
    "                available_colors.add(color_map[subject])\n",
    "        return color_map\n",
    "    def get_minimum_time_slots(self):\n",
    "        color_map = self.graph_coloring()\n",
    "        return max(color_map.values())\n",
    "\n",
    "def main():\n",
    "    num_subjects=int(input(\"Enter number of subjects:\"))\n",
    "    subjects=[]\n",
    "    students={}\n",
    "    for i in range(num_subjects):\n",
    "        subject = input(f\"Enter subject  {i+1}:\")\n",
    "        subjects.append(subject)\n",
    "        num_students=int(input(f\"Enter number of students for {subject}:\"))\n",
    "        student_list=[]\n",
    "        for j in range(num_students):\n",
    "            student=input(f\"Enter student for {j+1} for {subject}:\")\n",
    "            student_list.append(student)\n",
    "        students[subject]=student_list\n",
    "    graph=Graph(subjects)\n",
    "    num_edges=int(input(\"Enter number of edges:\"))\n",
    "    for _ in range(num_edges):\n",
    "        edge = input(\"Enter edge (subject1 subject2):\").split()\n",
    "        graph.add_edge(edge[0],edge[1])\n",
    "    minimum_time_slots = graph.get_minimum_time_slots()\n",
    "    print(f\"Minimum time slots needed:{minimum_time_slots}\")\n",
    "\n",
    "if __name__=='__main__':\n",
    "    main()"
   ]
  },
  {
   "cell_type": "code",
   "execution_count": null,
   "id": "97cbc942-8246-48f6-981a-541060fdb3fe",
   "metadata": {},
   "outputs": [],
   "source": []
  }
 ],
 "metadata": {
  "kernelspec": {
   "display_name": "Python 3 (ipykernel)",
   "language": "python",
   "name": "python3"
  },
  "language_info": {
   "codemirror_mode": {
    "name": "ipython",
    "version": 3
   },
   "file_extension": ".py",
   "mimetype": "text/x-python",
   "name": "python",
   "nbconvert_exporter": "python",
   "pygments_lexer": "ipython3",
   "version": "3.11.5"
  }
 },
 "nbformat": 4,
 "nbformat_minor": 5
}
